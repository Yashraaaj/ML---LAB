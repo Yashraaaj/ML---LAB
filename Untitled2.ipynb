{
  "nbformat": 4,
  "nbformat_minor": 0,
  "metadata": {
    "colab": {
      "provenance": [],
      "authorship_tag": "ABX9TyNKT2kTqXCc2i982qRVnTmr",
      "include_colab_link": true
    },
    "kernelspec": {
      "name": "python3",
      "display_name": "Python 3"
    },
    "language_info": {
      "name": "python"
    }
  },
  "cells": [
    {
      "cell_type": "markdown",
      "metadata": {
        "id": "view-in-github",
        "colab_type": "text"
      },
      "source": [
        "<a href=\"https://colab.research.google.com/github/Yashraaaj/ML---LAB/blob/main/Untitled2.ipynb\" target=\"_parent\"><img src=\"https://colab.research.google.com/assets/colab-badge.svg\" alt=\"Open In Colab\"/></a>"
      ]
    },
    {
      "cell_type": "code",
      "execution_count": null,
      "metadata": {
        "id": "ioptHlkLkH1m"
      },
      "outputs": [],
      "source": [
        "Loading the MNIST dataset in Keras"
      ]
    },
    {
      "cell_type": "code",
      "source": [
        "from keras.datasets import mnist\n",
        "(train_images, train_labels), (test_images, test_labels) = mnist.load_data()"
      ],
      "metadata": {
        "colab": {
          "base_uri": "https://localhost:8080/"
        },
        "id": "L72lnzMUkl0k",
        "outputId": "0b6cef92-be0b-470d-d6a2-21f5404ef9f2"
      },
      "execution_count": 2,
      "outputs": [
        {
          "output_type": "stream",
          "name": "stdout",
          "text": [
            "Downloading data from https://storage.googleapis.com/tensorflow/tf-keras-datasets/mnist.npz\n",
            "11490434/11490434 [==============================] - 0s 0us/step\n"
          ]
        }
      ]
    },
    {
      "cell_type": "code",
      "source": [
        "train_images.shape\n",
        "len(train_labels)\n",
        "train_labels\n",
        "test_images.shape\n",
        "len(test_labels)\n",
        "test_labels\n"
      ],
      "metadata": {
        "colab": {
          "base_uri": "https://localhost:8080/"
        },
        "id": "-7MuhFsyksHs",
        "outputId": "bb826d3d-bef2-4690-84c9-c030db236c87"
      },
      "execution_count": 3,
      "outputs": [
        {
          "output_type": "execute_result",
          "data": {
            "text/plain": [
              "array([7, 2, 1, ..., 4, 5, 6], dtype=uint8)"
            ]
          },
          "metadata": {},
          "execution_count": 3
        }
      ]
    },
    {
      "cell_type": "code",
      "source": [
        "from keras import models\n",
        "from keras import layers\n",
        "network = models.Sequential()\n",
        "# Dense(32) is a fully-connected layer with 32 hidden units.\n",
        "# in the first layer, you must specify the expected input data shape :\n",
        "# here, 28 X 28=784 -dimensional vectors.\n",
        "network.add(layers.Dense(32, activation='sigmoid', input_shape=(28 * 28, )))\n",
        "network.add(layers.Dense(8, activation='sigmoid'))\n",
        "network.add(layers.Dense(10, activation='softmax'))\n",
        "network.summary()\n",
        "from google.colab import drive\n",
        "drive.mount('/content/drive')"
      ],
      "metadata": {
        "colab": {
          "base_uri": "https://localhost:8080/"
        },
        "id": "Rs3pTA7Iks1s",
        "outputId": "66a6f401-26d8-46b9-b191-b1a84946eae3"
      },
      "execution_count": 4,
      "outputs": [
        {
          "output_type": "stream",
          "name": "stdout",
          "text": [
            "Model: \"sequential\"\n",
            "_________________________________________________________________\n",
            " Layer (type)                Output Shape              Param #   \n",
            "=================================================================\n",
            " dense (Dense)               (None, 32)                25120     \n",
            "                                                                 \n",
            " dense_1 (Dense)             (None, 8)                 264       \n",
            "                                                                 \n",
            " dense_2 (Dense)             (None, 10)                90        \n",
            "                                                                 \n",
            "=================================================================\n",
            "Total params: 25474 (99.51 KB)\n",
            "Trainable params: 25474 (99.51 KB)\n",
            "Non-trainable params: 0 (0.00 Byte)\n",
            "_________________________________________________________________\n",
            "Mounted at /content/drive\n"
          ]
        }
      ]
    },
    {
      "cell_type": "code",
      "source": [
        "network.compile(optimizer='sgd',\n",
        "                loss='categorical_crossentropy',\n",
        "                metrics=['accuracy'])"
      ],
      "metadata": {
        "id": "BfMk41NCk2z8"
      },
      "execution_count": 6,
      "outputs": []
    },
    {
      "cell_type": "code",
      "source": [
        "train_images = train_images.reshape((60000, 28 * 28))\n",
        "train_images = train_images.astype('float32') / 255.\n",
        "test_images = test_images.reshape((10000, 28 * 28))\n",
        "test_images = test_images.astype('float32') / 255."
      ],
      "metadata": {
        "id": "ZgGFtzkMk7_E"
      },
      "execution_count": 8,
      "outputs": []
    },
    {
      "cell_type": "code",
      "source": [
        "from keras.utils import to_categorical\n",
        "train_labels = to_categorical(train_labels)\n",
        "train_labels\n",
        "test_labels = to_categorical(test_labels)\n",
        "test_labels\n"
      ],
      "metadata": {
        "colab": {
          "base_uri": "https://localhost:8080/"
        },
        "id": "AN3NLBc9lAmM",
        "outputId": "fa74e5fd-4bca-4841-a56a-b125980022ec"
      },
      "execution_count": 9,
      "outputs": [
        {
          "output_type": "execute_result",
          "data": {
            "text/plain": [
              "array([[0., 0., 0., ..., 1., 0., 0.],\n",
              "       [0., 0., 1., ..., 0., 0., 0.],\n",
              "       [0., 1., 0., ..., 0., 0., 0.],\n",
              "       ...,\n",
              "       [0., 0., 0., ..., 0., 0., 0.],\n",
              "       [0., 0., 0., ..., 0., 0., 0.],\n",
              "       [0., 0., 0., ..., 0., 0., 0.]], dtype=float32)"
            ]
          },
          "metadata": {},
          "execution_count": 9
        }
      ]
    },
    {
      "cell_type": "code",
      "source": [
        "network.fit(train_images, train_labels, epochs=160, batch_size=512)"
      ],
      "metadata": {
        "colab": {
          "base_uri": "https://localhost:8080/"
        },
        "id": "wYj6tyeRlD90",
        "outputId": "95fdac23-a2f7-4109-c435-75fd9c6d68f2"
      },
      "execution_count": 10,
      "outputs": [
        {
          "output_type": "stream",
          "name": "stdout",
          "text": [
            "Epoch 1/160\n",
            "118/118 [==============================] - 1s 6ms/step - loss: 2.3495 - accuracy: 0.0986\n",
            "Epoch 2/160\n",
            "118/118 [==============================] - 1s 8ms/step - loss: 2.3237 - accuracy: 0.0986\n",
            "Epoch 3/160\n",
            "118/118 [==============================] - 1s 7ms/step - loss: 2.3123 - accuracy: 0.1080\n",
            "Epoch 4/160\n",
            "118/118 [==============================] - 1s 7ms/step - loss: 2.3069 - accuracy: 0.1124\n",
            "Epoch 5/160\n",
            "118/118 [==============================] - 1s 7ms/step - loss: 2.3042 - accuracy: 0.1124\n",
            "Epoch 6/160\n",
            "118/118 [==============================] - 1s 5ms/step - loss: 2.3027 - accuracy: 0.1124\n",
            "Epoch 7/160\n",
            "118/118 [==============================] - 0s 4ms/step - loss: 2.3020 - accuracy: 0.1124\n",
            "Epoch 8/160\n",
            "118/118 [==============================] - 0s 4ms/step - loss: 2.3016 - accuracy: 0.1124\n",
            "Epoch 9/160\n",
            "118/118 [==============================] - 0s 4ms/step - loss: 2.3014 - accuracy: 0.1124\n",
            "Epoch 10/160\n",
            "118/118 [==============================] - 0s 4ms/step - loss: 2.3013 - accuracy: 0.1124\n",
            "Epoch 11/160\n",
            "118/118 [==============================] - 0s 4ms/step - loss: 2.3012 - accuracy: 0.1124\n",
            "Epoch 12/160\n",
            "118/118 [==============================] - 1s 4ms/step - loss: 2.3012 - accuracy: 0.1124\n",
            "Epoch 13/160\n",
            "118/118 [==============================] - 1s 4ms/step - loss: 2.3012 - accuracy: 0.1124\n",
            "Epoch 14/160\n",
            "118/118 [==============================] - 1s 4ms/step - loss: 2.3012 - accuracy: 0.1124\n",
            "Epoch 15/160\n",
            "118/118 [==============================] - 0s 4ms/step - loss: 2.3012 - accuracy: 0.1124\n",
            "Epoch 16/160\n",
            "118/118 [==============================] - 0s 4ms/step - loss: 2.3012 - accuracy: 0.1124\n",
            "Epoch 17/160\n",
            "118/118 [==============================] - 0s 4ms/step - loss: 2.3012 - accuracy: 0.1124\n",
            "Epoch 18/160\n",
            "118/118 [==============================] - 0s 4ms/step - loss: 2.3012 - accuracy: 0.1124\n",
            "Epoch 19/160\n",
            "118/118 [==============================] - 0s 4ms/step - loss: 2.3012 - accuracy: 0.1124\n",
            "Epoch 20/160\n",
            "118/118 [==============================] - 1s 4ms/step - loss: 2.3012 - accuracy: 0.1124\n",
            "Epoch 21/160\n",
            "118/118 [==============================] - 1s 4ms/step - loss: 2.3012 - accuracy: 0.1124\n",
            "Epoch 22/160\n",
            "118/118 [==============================] - 1s 4ms/step - loss: 2.3012 - accuracy: 0.1124\n",
            "Epoch 23/160\n",
            "118/118 [==============================] - 1s 4ms/step - loss: 2.3012 - accuracy: 0.1124\n",
            "Epoch 24/160\n",
            "118/118 [==============================] - 1s 4ms/step - loss: 2.3012 - accuracy: 0.1124\n",
            "Epoch 25/160\n",
            "118/118 [==============================] - 1s 5ms/step - loss: 2.3012 - accuracy: 0.1124\n",
            "Epoch 26/160\n",
            "118/118 [==============================] - 1s 6ms/step - loss: 2.3012 - accuracy: 0.1124\n",
            "Epoch 27/160\n",
            "118/118 [==============================] - 1s 7ms/step - loss: 2.3012 - accuracy: 0.1124\n",
            "Epoch 28/160\n",
            "118/118 [==============================] - 1s 7ms/step - loss: 2.3012 - accuracy: 0.1124\n",
            "Epoch 29/160\n",
            "118/118 [==============================] - 1s 7ms/step - loss: 2.3012 - accuracy: 0.1124\n",
            "Epoch 30/160\n",
            "118/118 [==============================] - 1s 7ms/step - loss: 2.3012 - accuracy: 0.1124\n",
            "Epoch 31/160\n",
            "118/118 [==============================] - 1s 7ms/step - loss: 2.3012 - accuracy: 0.1124\n",
            "Epoch 32/160\n",
            "118/118 [==============================] - 1s 8ms/step - loss: 2.3012 - accuracy: 0.1124\n",
            "Epoch 33/160\n",
            "118/118 [==============================] - 1s 6ms/step - loss: 2.3012 - accuracy: 0.1124\n",
            "Epoch 34/160\n",
            "118/118 [==============================] - 1s 8ms/step - loss: 2.3012 - accuracy: 0.1124\n",
            "Epoch 35/160\n",
            "118/118 [==============================] - 1s 7ms/step - loss: 2.3012 - accuracy: 0.1124\n",
            "Epoch 36/160\n",
            "118/118 [==============================] - 1s 7ms/step - loss: 2.3012 - accuracy: 0.1124\n",
            "Epoch 37/160\n",
            "118/118 [==============================] - 1s 4ms/step - loss: 2.3012 - accuracy: 0.1124\n",
            "Epoch 38/160\n",
            "118/118 [==============================] - 0s 4ms/step - loss: 2.3012 - accuracy: 0.1124\n",
            "Epoch 39/160\n",
            "118/118 [==============================] - 0s 4ms/step - loss: 2.3012 - accuracy: 0.1124\n",
            "Epoch 40/160\n",
            "118/118 [==============================] - 1s 4ms/step - loss: 2.3012 - accuracy: 0.1124\n",
            "Epoch 41/160\n",
            "118/118 [==============================] - 1s 5ms/step - loss: 2.3012 - accuracy: 0.1124\n",
            "Epoch 42/160\n",
            "118/118 [==============================] - 1s 4ms/step - loss: 2.3012 - accuracy: 0.1124\n",
            "Epoch 43/160\n",
            "118/118 [==============================] - 1s 4ms/step - loss: 2.3012 - accuracy: 0.1124\n",
            "Epoch 44/160\n",
            "118/118 [==============================] - 1s 5ms/step - loss: 2.3012 - accuracy: 0.1124\n",
            "Epoch 45/160\n",
            "118/118 [==============================] - 1s 4ms/step - loss: 2.3012 - accuracy: 0.1124\n",
            "Epoch 46/160\n",
            "118/118 [==============================] - 1s 7ms/step - loss: 2.3012 - accuracy: 0.1124\n",
            "Epoch 47/160\n",
            "118/118 [==============================] - 1s 7ms/step - loss: 2.3012 - accuracy: 0.1124\n",
            "Epoch 48/160\n",
            "118/118 [==============================] - 1s 7ms/step - loss: 2.3012 - accuracy: 0.1124\n",
            "Epoch 49/160\n",
            "118/118 [==============================] - 1s 7ms/step - loss: 2.3012 - accuracy: 0.1124\n",
            "Epoch 50/160\n",
            "118/118 [==============================] - 1s 7ms/step - loss: 2.3012 - accuracy: 0.1124\n",
            "Epoch 51/160\n",
            "118/118 [==============================] - 1s 5ms/step - loss: 2.3012 - accuracy: 0.1124\n",
            "Epoch 52/160\n",
            "118/118 [==============================] - 1s 4ms/step - loss: 2.3012 - accuracy: 0.1124\n",
            "Epoch 53/160\n",
            "118/118 [==============================] - 1s 4ms/step - loss: 2.3012 - accuracy: 0.1124\n",
            "Epoch 54/160\n",
            "118/118 [==============================] - 1s 5ms/step - loss: 2.3012 - accuracy: 0.1124\n",
            "Epoch 55/160\n",
            "118/118 [==============================] - 1s 6ms/step - loss: 2.3012 - accuracy: 0.1124\n",
            "Epoch 56/160\n",
            "118/118 [==============================] - 1s 9ms/step - loss: 2.3012 - accuracy: 0.1124\n",
            "Epoch 57/160\n",
            "118/118 [==============================] - 1s 8ms/step - loss: 2.3012 - accuracy: 0.1124\n",
            "Epoch 58/160\n",
            "118/118 [==============================] - 1s 8ms/step - loss: 2.3012 - accuracy: 0.1124\n",
            "Epoch 59/160\n",
            "118/118 [==============================] - 1s 9ms/step - loss: 2.3012 - accuracy: 0.1124\n",
            "Epoch 60/160\n",
            "118/118 [==============================] - 1s 8ms/step - loss: 2.3012 - accuracy: 0.1124\n",
            "Epoch 61/160\n",
            "118/118 [==============================] - 1s 10ms/step - loss: 2.3012 - accuracy: 0.1124\n",
            "Epoch 62/160\n",
            "118/118 [==============================] - 2s 14ms/step - loss: 2.3012 - accuracy: 0.1124\n",
            "Epoch 63/160\n",
            "118/118 [==============================] - 2s 19ms/step - loss: 2.3012 - accuracy: 0.1124\n",
            "Epoch 64/160\n",
            "118/118 [==============================] - 2s 15ms/step - loss: 2.3012 - accuracy: 0.1124\n",
            "Epoch 65/160\n",
            "118/118 [==============================] - 1s 12ms/step - loss: 2.3012 - accuracy: 0.1124\n",
            "Epoch 66/160\n",
            "118/118 [==============================] - 1s 9ms/step - loss: 2.3012 - accuracy: 0.1124\n",
            "Epoch 67/160\n",
            "118/118 [==============================] - 1s 9ms/step - loss: 2.3012 - accuracy: 0.1124\n",
            "Epoch 68/160\n",
            "118/118 [==============================] - 1s 9ms/step - loss: 2.3012 - accuracy: 0.1124\n",
            "Epoch 69/160\n",
            "118/118 [==============================] - 1s 9ms/step - loss: 2.3012 - accuracy: 0.1124\n",
            "Epoch 70/160\n",
            "118/118 [==============================] - 1s 9ms/step - loss: 2.3012 - accuracy: 0.1124\n",
            "Epoch 71/160\n",
            "118/118 [==============================] - 1s 8ms/step - loss: 2.3012 - accuracy: 0.1124\n",
            "Epoch 72/160\n",
            "118/118 [==============================] - 0s 4ms/step - loss: 2.3012 - accuracy: 0.1124\n",
            "Epoch 73/160\n",
            "118/118 [==============================] - 1s 5ms/step - loss: 2.3012 - accuracy: 0.1124\n",
            "Epoch 74/160\n",
            "118/118 [==============================] - 0s 4ms/step - loss: 2.3012 - accuracy: 0.1124\n",
            "Epoch 75/160\n",
            "118/118 [==============================] - 1s 4ms/step - loss: 2.3012 - accuracy: 0.1124\n",
            "Epoch 76/160\n",
            "118/118 [==============================] - 0s 4ms/step - loss: 2.3012 - accuracy: 0.1124\n",
            "Epoch 77/160\n",
            "118/118 [==============================] - 1s 6ms/step - loss: 2.3012 - accuracy: 0.1124\n",
            "Epoch 78/160\n",
            "118/118 [==============================] - 1s 6ms/step - loss: 2.3012 - accuracy: 0.1124\n",
            "Epoch 79/160\n",
            "118/118 [==============================] - 1s 7ms/step - loss: 2.3012 - accuracy: 0.1124\n",
            "Epoch 80/160\n",
            "118/118 [==============================] - 1s 7ms/step - loss: 2.3012 - accuracy: 0.1124\n",
            "Epoch 81/160\n",
            "118/118 [==============================] - 1s 7ms/step - loss: 2.3012 - accuracy: 0.1124\n",
            "Epoch 82/160\n",
            "118/118 [==============================] - 1s 4ms/step - loss: 2.3012 - accuracy: 0.1124\n",
            "Epoch 83/160\n",
            "118/118 [==============================] - 0s 4ms/step - loss: 2.3012 - accuracy: 0.1124\n",
            "Epoch 84/160\n",
            "118/118 [==============================] - 0s 4ms/step - loss: 2.3012 - accuracy: 0.1124\n",
            "Epoch 85/160\n",
            "118/118 [==============================] - 1s 4ms/step - loss: 2.3012 - accuracy: 0.1124\n",
            "Epoch 86/160\n",
            "118/118 [==============================] - 1s 4ms/step - loss: 2.3012 - accuracy: 0.1124\n",
            "Epoch 87/160\n",
            "118/118 [==============================] - 0s 4ms/step - loss: 2.3012 - accuracy: 0.1124\n",
            "Epoch 88/160\n",
            "118/118 [==============================] - 0s 4ms/step - loss: 2.3012 - accuracy: 0.1124\n",
            "Epoch 89/160\n",
            "118/118 [==============================] - 0s 4ms/step - loss: 2.3012 - accuracy: 0.1124\n",
            "Epoch 90/160\n",
            "118/118 [==============================] - 0s 4ms/step - loss: 2.3012 - accuracy: 0.1124\n",
            "Epoch 91/160\n",
            "118/118 [==============================] - 1s 4ms/step - loss: 2.3012 - accuracy: 0.1124\n",
            "Epoch 92/160\n",
            "118/118 [==============================] - 0s 4ms/step - loss: 2.3012 - accuracy: 0.1124\n",
            "Epoch 93/160\n",
            "118/118 [==============================] - 1s 4ms/step - loss: 2.3012 - accuracy: 0.1124\n",
            "Epoch 94/160\n",
            "118/118 [==============================] - 1s 4ms/step - loss: 2.3012 - accuracy: 0.1124\n",
            "Epoch 95/160\n",
            "118/118 [==============================] - 1s 4ms/step - loss: 2.3012 - accuracy: 0.1124\n",
            "Epoch 96/160\n",
            "118/118 [==============================] - 0s 4ms/step - loss: 2.3012 - accuracy: 0.1124\n",
            "Epoch 97/160\n",
            "118/118 [==============================] - 0s 4ms/step - loss: 2.3012 - accuracy: 0.1124\n",
            "Epoch 98/160\n",
            "118/118 [==============================] - 0s 4ms/step - loss: 2.3012 - accuracy: 0.1124\n",
            "Epoch 99/160\n",
            "118/118 [==============================] - 0s 4ms/step - loss: 2.3012 - accuracy: 0.1124\n",
            "Epoch 100/160\n",
            "118/118 [==============================] - 0s 4ms/step - loss: 2.3012 - accuracy: 0.1124\n",
            "Epoch 101/160\n",
            "118/118 [==============================] - 0s 4ms/step - loss: 2.3012 - accuracy: 0.1124\n",
            "Epoch 102/160\n",
            "118/118 [==============================] - 1s 6ms/step - loss: 2.3012 - accuracy: 0.1124\n",
            "Epoch 103/160\n",
            "118/118 [==============================] - 1s 6ms/step - loss: 2.3012 - accuracy: 0.1124\n",
            "Epoch 104/160\n",
            "118/118 [==============================] - 1s 7ms/step - loss: 2.3012 - accuracy: 0.1124\n",
            "Epoch 105/160\n",
            "118/118 [==============================] - 1s 6ms/step - loss: 2.3012 - accuracy: 0.1124\n",
            "Epoch 106/160\n",
            "118/118 [==============================] - 1s 7ms/step - loss: 2.3012 - accuracy: 0.1124\n",
            "Epoch 107/160\n",
            "118/118 [==============================] - 1s 5ms/step - loss: 2.3012 - accuracy: 0.1124\n",
            "Epoch 108/160\n",
            "118/118 [==============================] - 0s 4ms/step - loss: 2.3012 - accuracy: 0.1124\n",
            "Epoch 109/160\n",
            "118/118 [==============================] - 0s 4ms/step - loss: 2.3012 - accuracy: 0.1124\n",
            "Epoch 110/160\n",
            "118/118 [==============================] - 1s 4ms/step - loss: 2.3012 - accuracy: 0.1124\n",
            "Epoch 111/160\n",
            "118/118 [==============================] - 1s 4ms/step - loss: 2.3012 - accuracy: 0.1124\n",
            "Epoch 112/160\n",
            "118/118 [==============================] - 1s 4ms/step - loss: 2.3012 - accuracy: 0.1124\n",
            "Epoch 113/160\n",
            "118/118 [==============================] - 1s 4ms/step - loss: 2.3012 - accuracy: 0.1124\n",
            "Epoch 114/160\n",
            "118/118 [==============================] - 1s 4ms/step - loss: 2.3012 - accuracy: 0.1124\n",
            "Epoch 115/160\n",
            "118/118 [==============================] - 1s 4ms/step - loss: 2.3012 - accuracy: 0.1124\n",
            "Epoch 116/160\n",
            "118/118 [==============================] - 0s 4ms/step - loss: 2.3012 - accuracy: 0.1124\n",
            "Epoch 117/160\n",
            "118/118 [==============================] - 0s 4ms/step - loss: 2.3012 - accuracy: 0.1124\n",
            "Epoch 118/160\n",
            "118/118 [==============================] - 1s 4ms/step - loss: 2.3012 - accuracy: 0.1124\n",
            "Epoch 119/160\n",
            "118/118 [==============================] - 1s 8ms/step - loss: 2.3012 - accuracy: 0.1124\n",
            "Epoch 120/160\n",
            "118/118 [==============================] - 1s 6ms/step - loss: 2.3012 - accuracy: 0.1124\n",
            "Epoch 121/160\n",
            "118/118 [==============================] - 1s 7ms/step - loss: 2.3012 - accuracy: 0.1124\n",
            "Epoch 122/160\n",
            "118/118 [==============================] - 1s 9ms/step - loss: 2.3012 - accuracy: 0.1124\n",
            "Epoch 123/160\n",
            "118/118 [==============================] - 1s 11ms/step - loss: 2.3012 - accuracy: 0.1124\n",
            "Epoch 124/160\n",
            "118/118 [==============================] - 2s 16ms/step - loss: 2.3012 - accuracy: 0.1124\n",
            "Epoch 125/160\n",
            "118/118 [==============================] - 1s 11ms/step - loss: 2.3012 - accuracy: 0.1124\n",
            "Epoch 126/160\n",
            "118/118 [==============================] - 1s 9ms/step - loss: 2.3012 - accuracy: 0.1124\n",
            "Epoch 127/160\n",
            "118/118 [==============================] - 1s 6ms/step - loss: 2.3012 - accuracy: 0.1124\n",
            "Epoch 128/160\n",
            "118/118 [==============================] - 1s 6ms/step - loss: 2.3012 - accuracy: 0.1124\n",
            "Epoch 129/160\n",
            "118/118 [==============================] - 1s 8ms/step - loss: 2.3012 - accuracy: 0.1124\n",
            "Epoch 130/160\n",
            "118/118 [==============================] - 1s 9ms/step - loss: 2.3012 - accuracy: 0.1124\n",
            "Epoch 131/160\n",
            "118/118 [==============================] - 1s 6ms/step - loss: 2.3012 - accuracy: 0.1124\n",
            "Epoch 132/160\n",
            "118/118 [==============================] - 0s 4ms/step - loss: 2.3012 - accuracy: 0.1124\n",
            "Epoch 133/160\n",
            "118/118 [==============================] - 1s 5ms/step - loss: 2.3012 - accuracy: 0.1124\n",
            "Epoch 134/160\n",
            "118/118 [==============================] - 1s 4ms/step - loss: 2.3012 - accuracy: 0.1124\n",
            "Epoch 135/160\n",
            "118/118 [==============================] - 1s 4ms/step - loss: 2.3012 - accuracy: 0.1124\n",
            "Epoch 136/160\n",
            "118/118 [==============================] - 1s 4ms/step - loss: 2.3012 - accuracy: 0.1124\n",
            "Epoch 137/160\n",
            "118/118 [==============================] - 1s 5ms/step - loss: 2.3012 - accuracy: 0.1124\n",
            "Epoch 138/160\n",
            "118/118 [==============================] - 1s 6ms/step - loss: 2.3012 - accuracy: 0.1124\n",
            "Epoch 139/160\n",
            "118/118 [==============================] - 1s 6ms/step - loss: 2.3012 - accuracy: 0.1124\n",
            "Epoch 140/160\n",
            "118/118 [==============================] - 1s 5ms/step - loss: 2.3012 - accuracy: 0.1124\n",
            "Epoch 141/160\n",
            "118/118 [==============================] - 1s 6ms/step - loss: 2.3012 - accuracy: 0.1124\n",
            "Epoch 142/160\n",
            "118/118 [==============================] - 1s 8ms/step - loss: 2.3012 - accuracy: 0.1124\n",
            "Epoch 143/160\n",
            "118/118 [==============================] - 1s 7ms/step - loss: 2.3012 - accuracy: 0.1124\n",
            "Epoch 144/160\n",
            "118/118 [==============================] - 1s 7ms/step - loss: 2.3012 - accuracy: 0.1124\n",
            "Epoch 145/160\n",
            "118/118 [==============================] - 1s 6ms/step - loss: 2.3012 - accuracy: 0.1124\n",
            "Epoch 146/160\n",
            "118/118 [==============================] - 1s 7ms/step - loss: 2.3012 - accuracy: 0.1124\n",
            "Epoch 147/160\n",
            "118/118 [==============================] - 1s 4ms/step - loss: 2.3012 - accuracy: 0.1124\n",
            "Epoch 148/160\n",
            "118/118 [==============================] - 0s 4ms/step - loss: 2.3012 - accuracy: 0.1124\n",
            "Epoch 149/160\n",
            "118/118 [==============================] - 1s 4ms/step - loss: 2.3012 - accuracy: 0.1124\n",
            "Epoch 150/160\n",
            "118/118 [==============================] - 1s 4ms/step - loss: 2.3012 - accuracy: 0.1124\n",
            "Epoch 151/160\n",
            "118/118 [==============================] - 1s 5ms/step - loss: 2.3012 - accuracy: 0.1124\n",
            "Epoch 152/160\n",
            "118/118 [==============================] - 1s 5ms/step - loss: 2.3012 - accuracy: 0.1124\n",
            "Epoch 153/160\n",
            "118/118 [==============================] - 1s 6ms/step - loss: 2.3012 - accuracy: 0.1124\n",
            "Epoch 154/160\n",
            "118/118 [==============================] - 1s 5ms/step - loss: 2.3012 - accuracy: 0.1124\n",
            "Epoch 155/160\n",
            "118/118 [==============================] - 1s 5ms/step - loss: 2.3012 - accuracy: 0.1124\n",
            "Epoch 156/160\n",
            "118/118 [==============================] - 1s 5ms/step - loss: 2.3012 - accuracy: 0.1124\n",
            "Epoch 157/160\n",
            "118/118 [==============================] - 1s 4ms/step - loss: 2.3012 - accuracy: 0.1124\n",
            "Epoch 158/160\n",
            "118/118 [==============================] - 1s 4ms/step - loss: 2.3012 - accuracy: 0.1124\n",
            "Epoch 159/160\n",
            "118/118 [==============================] - 0s 4ms/step - loss: 2.3012 - accuracy: 0.1124\n",
            "Epoch 160/160\n",
            "118/118 [==============================] - 1s 6ms/step - loss: 2.3012 - accuracy: 0.1124\n"
          ]
        },
        {
          "output_type": "execute_result",
          "data": {
            "text/plain": [
              "<keras.src.callbacks.History at 0x79191c5b7c70>"
            ]
          },
          "metadata": {},
          "execution_count": 10
        }
      ]
    },
    {
      "cell_type": "code",
      "source": [
        "from keras.utils import plot_model\n",
        "plot_model(network, to_file='model.png')\n",
        "import matplotlib.pyplot as plt\n",
        "history =network.fit(train_images, train_labels, validation_split=0.33,epochs=5, batch_size=512)\n",
        "history_dict = history.history\n",
        "print(history_dict.keys())\n",
        "plt.plot(history.history['accuracy'])\n",
        "plt.plot(history.history['val_accuracy'])\n",
        "plt.title('Model accuracy')\n",
        "plt.ylabel('Accuracy')\n",
        "plt.xlabel('Epoch')\n",
        "plt.legend(['Train', 'Test'], loc='upper left')\n",
        "plt.show()\n",
        "\n",
        "\n",
        "# Plot training & validation loss values\n",
        "plt.plot(history.history['loss'])\n",
        "plt.plot(history.history['val_loss'])\n",
        "plt.title('Model loss')\n",
        "plt.ylabel('Loss')\n",
        "plt.xlabel('Epoch')\n",
        "plt.legend(['Train', 'Test'], loc='upper left')\n",
        "plt.show()\n"
      ],
      "metadata": {
        "colab": {
          "base_uri": "https://localhost:8080/",
          "height": 1000
        },
        "id": "s7dok9YklLnz",
        "outputId": "62ed5160-e5d5-4e6f-ecdb-46323c3f0549"
      },
      "execution_count": 11,
      "outputs": [
        {
          "output_type": "stream",
          "name": "stdout",
          "text": [
            "Epoch 1/5\n",
            "79/79 [==============================] - 1s 10ms/step - loss: 2.3010 - accuracy: 0.1141 - val_loss: 2.3015 - val_accuracy: 0.1088\n",
            "Epoch 2/5\n",
            "79/79 [==============================] - 1s 8ms/step - loss: 2.3010 - accuracy: 0.1141 - val_loss: 2.3016 - val_accuracy: 0.1088\n",
            "Epoch 3/5\n",
            "79/79 [==============================] - 1s 7ms/step - loss: 2.3010 - accuracy: 0.1141 - val_loss: 2.3016 - val_accuracy: 0.1088\n",
            "Epoch 4/5\n",
            "79/79 [==============================] - 0s 6ms/step - loss: 2.3009 - accuracy: 0.1141 - val_loss: 2.3016 - val_accuracy: 0.1088\n",
            "Epoch 5/5\n",
            "79/79 [==============================] - 0s 6ms/step - loss: 2.3009 - accuracy: 0.1141 - val_loss: 2.3016 - val_accuracy: 0.1088\n",
            "dict_keys(['loss', 'accuracy', 'val_loss', 'val_accuracy'])\n"
          ]
        },
        {
          "output_type": "display_data",
          "data": {
            "text/plain": [
              "<Figure size 640x480 with 1 Axes>"
            ],
            "image/png": "[encoded data removed]"
          },
          "metadata": {}
        },
        {
          "output_type": "display_data",
          "data": {
            "text/plain": [
              "<Figure size 640x480 with 1 Axes>"
            ],
            "image/png": "[encoded data removed]"
          },
          "metadata": {}
        }
      ]
    },
    {
      "cell_type": "code",
      "source": [],
      "metadata": {
        "id": "UODyzwITlbAq"
      },
      "execution_count": null,
      "outputs": []
    }
  ]
}